{
 "cells": [
  {
   "cell_type": "code",
   "execution_count": 1,
   "metadata": {},
   "outputs": [],
   "source": [
    "import pandas as pd\n",
    "\n",
    "import dask\n",
    "from dask import delayed\n",
    "import dask.dataframe as dd\n",
    "\n",
    "import config\n",
    "import os\n",
    "\n",
    "import math\n",
    "import geopandas as gpd\n",
    "from shapely.geometry import Polygon\n",
    "\n",
    "folder = config.jiaotongsai_dataset\n",
    "filepath = [os.path.join(folder, file)\n",
    "            for file in os.listdir(folder)\n",
    "            if file.endswith('.txt') and not file.startswith('.')]"
   ]
  },
  {
   "cell_type": "code",
   "execution_count": 2,
   "metadata": {},
   "outputs": [
    {
     "data": {
      "text/html": [
       "<div><strong>Dask DataFrame Structure:</strong></div>\n",
       "<div>\n",
       "<style scoped>\n",
       "    .dataframe tbody tr th:only-of-type {\n",
       "        vertical-align: middle;\n",
       "    }\n",
       "\n",
       "    .dataframe tbody tr th {\n",
       "        vertical-align: top;\n",
       "    }\n",
       "\n",
       "    .dataframe thead th {\n",
       "        text-align: right;\n",
       "    }\n",
       "</style>\n",
       "<table border=\"1\" class=\"dataframe\">\n",
       "  <thead>\n",
       "    <tr style=\"text-align: right;\">\n",
       "      <th></th>\n",
       "      <th>id</th>\n",
       "      <th>lat</th>\n",
       "      <th>lon</th>\n",
       "      <th>dt</th>\n",
       "    </tr>\n",
       "    <tr>\n",
       "      <th>npartitions=911</th>\n",
       "      <th></th>\n",
       "      <th></th>\n",
       "      <th></th>\n",
       "      <th></th>\n",
       "    </tr>\n",
       "  </thead>\n",
       "  <tbody>\n",
       "    <tr>\n",
       "      <th></th>\n",
       "      <td>int64</td>\n",
       "      <td>float64</td>\n",
       "      <td>float64</td>\n",
       "      <td>datetime64[ns]</td>\n",
       "    </tr>\n",
       "    <tr>\n",
       "      <th></th>\n",
       "      <td>...</td>\n",
       "      <td>...</td>\n",
       "      <td>...</td>\n",
       "      <td>...</td>\n",
       "    </tr>\n",
       "    <tr>\n",
       "      <th>...</th>\n",
       "      <td>...</td>\n",
       "      <td>...</td>\n",
       "      <td>...</td>\n",
       "      <td>...</td>\n",
       "    </tr>\n",
       "    <tr>\n",
       "      <th></th>\n",
       "      <td>...</td>\n",
       "      <td>...</td>\n",
       "      <td>...</td>\n",
       "      <td>...</td>\n",
       "    </tr>\n",
       "    <tr>\n",
       "      <th></th>\n",
       "      <td>...</td>\n",
       "      <td>...</td>\n",
       "      <td>...</td>\n",
       "      <td>...</td>\n",
       "    </tr>\n",
       "  </tbody>\n",
       "</table>\n",
       "</div>\n",
       "<div>Dask Name: assign, 5 graph layers</div>"
      ],
      "text/plain": [
       "Dask DataFrame Structure:\n",
       "                    id      lat      lon              dt\n",
       "npartitions=911                                         \n",
       "                 int64  float64  float64  datetime64[ns]\n",
       "                   ...      ...      ...             ...\n",
       "...                ...      ...      ...             ...\n",
       "                   ...      ...      ...             ...\n",
       "                   ...      ...      ...             ...\n",
       "Dask Name: assign, 5 graph layers"
      ]
     },
     "execution_count": 2,
     "metadata": {},
     "output_type": "execute_result"
    }
   ],
   "source": [
    "# Load data lazily\n",
    "ddf = dd.read_csv(filepath, header=None,\n",
    "                  names=['id', 'lat', 'lon', 'st', 'dt'])\n",
    "# Drop a column\n",
    "ddf = ddf.drop(columns=['st'])\n",
    "# Convert from sting to datetime\n",
    "ddf['dt'] = dd.to_datetime(ddf['dt'])\n",
    "\n",
    "ddf"
   ]
  },
  {
   "cell_type": "markdown",
   "metadata": {},
   "source": [
    "## Func: dealVehicle.py, dealHighFreVehicle.py -> VehicleData_dealed/result.txt\n",
    "\n",
    "统计每名工人在当月出现天数，统计当月每天有哪些工人。"
   ]
  },
  {
   "cell_type": "code",
   "execution_count": 3,
   "metadata": {},
   "outputs": [],
   "source": [
    "worker2ndays_path = './output/worker2ndays.csv'\n",
    "date2workers_path = './output/date2workers.csv'\n",
    "\n",
    "if not all(os.path.exists(path) for path in filepath):\n",
    "    ddf['date'] = ddf['dt'].dt.date\n",
    "    worker2ndays = ddf.drop_duplicates(subset=['id', 'date']).groupby('id')[\n",
    "        'date'].count().to_frame('n_days')\n",
    "    date2workers = ddf.drop_duplicates(subset=['id', 'date']).groupby('date')[\n",
    "        'id'].unique().to_frame('ids')\n",
    "    worker2ndays, date2workers = dd.compute(worker2ndays, date2workers)\n",
    "\n",
    "    worker2ndays.to_csv(worker2ndays_path)\n",
    "    date2workers['ids'] = date2workers['ids'].apply(list)\n",
    "    date2workers.to_csv(date2workers_path)\n",
    "\n",
    "worker2ndays = dd.read_csv(worker2ndays_path)\n",
    "date2workers = dd.read_csv(date2workers_path)"
   ]
  },
  {
   "cell_type": "code",
   "execution_count": 6,
   "metadata": {},
   "outputs": [],
   "source": [
    "threshold = 25\n",
    "if not os.path.exists('./output/worker2ndays_25.csv'):\n",
    "    workers = worker2ndays[worker2ndays['n_days'] >= threshold]\n",
    "    workers = workers.compute().to_csv('./output/worker2ndays_25.csv')"
   ]
  },
  {
   "cell_type": "markdown",
   "metadata": {},
   "source": [
    "## Func: getMaxMinLonLat.py\n",
    "\n",
    "以上述活跃司机为基准，从中选择2000名工人，横跨当月每一天，统计最大最小的经纬度。"
   ]
  },
  {
   "cell_type": "code",
   "execution_count": 17,
   "metadata": {},
   "outputs": [],
   "source": [
    "workers = pd.read_csv('./output/worker2ndays_25.csv',\n",
    "                      index_col=0).reset_index(drop=True)\n",
    "N = 1140\n",
    "worker_ids = workers['id'].sort_values(ascending=True)[:N]\n",
    "pd.DataFrame(worker_ids).to_csv('./output/selected_worker.csv')"
   ]
  },
  {
   "cell_type": "code",
   "execution_count": 12,
   "metadata": {},
   "outputs": [
    {
     "name": "stderr",
     "output_type": "stream",
     "text": [
      "/Users/durui/miniconda3/lib/python3.11/site-packages/dask/dataframe/core.py:7021: UserWarning: Could not infer format, so each element will be parsed individually, falling back to `dateutil`. To ensure parsing is consistent and as-expected, please specify a format.\n",
      "  df = func(*args, **kwargs)\n"
     ]
    }
   ],
   "source": [
    "concern = ddf[ddf['id'].isin(worker_ids)][['lat', 'lon']]\n",
    "min_lat, max_lat = concern['lat'].min(), concern['lat'].max()\n",
    "min_lon, max_lon = concern['lon'].min(), concern['lon'].max()\n",
    "min_lat, max_lat, min_lon, max_lon = dd.compute(\n",
    "    min_lat, max_lat, min_lon, max_lon)"
   ]
  },
  {
   "cell_type": "code",
   "execution_count": 14,
   "metadata": {},
   "outputs": [],
   "source": [
    "geo = pd.DataFrame({'min_lat': [min_lat], 'max_lat': [\n",
    "                   max_lat], 'min_lon': [min_lon], 'max_lon': [max_lon]})\n",
    "geo.to_csv('./output/geometry.csv')"
   ]
  },
  {
   "cell_type": "markdown",
   "metadata": {},
   "source": [
    "## Func: setAllDataGridLabel.py\n",
    "\n",
    "为上述选择的工人添加一列，标识栅格标签，将离散的数据点聚集至栅格中；按照每一天统计途径该栅格的工人有多少个，有哪些。\n",
    "\n",
    "### 研究区域栅格生成"
   ]
  },
  {
   "cell_type": "code",
   "execution_count": 22,
   "metadata": {},
   "outputs": [
    {
     "data": {
      "text/plain": [
       "(0.004496605206422906, 0.005227427203548936)"
      ]
     },
     "execution_count": 22,
     "metadata": {},
     "output_type": "execute_result"
    }
   ],
   "source": [
    "_, min_lat, max_lat, min_lon, max_lon = pd.read_csv(\n",
    "    './output/geometry.csv').iloc[0]\n",
    "\n",
    "# 定义栅格大小，单位为米\n",
    "accuracy = 500\n",
    "\n",
    "# 计算经纬度增量，地球半径取6371004米\n",
    "R = 6371004\n",
    "delta_lat = accuracy * 360 / (2 * math.pi * R)\n",
    "delta_lon = accuracy * 360 / \\\n",
    "    (2 * math.pi * R * math.cos((min_lat + max_lat) * math.pi / 360))\n",
    "\n",
    "delta_lat, delta_lon"
   ]
  },
  {
   "cell_type": "code",
   "execution_count": 23,
   "metadata": {},
   "outputs": [],
   "source": [
    "def gps2grid(lat, lon):\n",
    "    \"\"\" 计算该GPS点对应的栅格编号 \"\"\"\n",
    "    LON_IDX = divmod(float(lon) - (min_lon - delta_lon / 2), delta_lon)\n",
    "    LAT_IDX = divmod(float(lat) - (min_lat - delta_lat / 2), delta_lat)\n",
    "    return LAT_IDX, LON_IDX\n",
    "\n",
    "\n",
    "def grid2gps(LAT_IDX, LON_IDX):\n",
    "    \"\"\" 计算栅格编号对应的中心点经纬度 \"\"\"\n",
    "    return LAT_IDX * delta_lat + min_lat, LON_IDX * delta_lon + min_lon"
   ]
  },
  {
   "cell_type": "code",
   "execution_count": 29,
   "metadata": {},
   "outputs": [
    {
     "name": "stderr",
     "output_type": "stream",
     "text": [
      "/var/folders/v5/q82y10q11y795vj91pc1thgr0000gn/T/ipykernel_51094/2044679692.py:42: FutureWarning: You are adding a column named 'geometry' to a GeoDataFrame constructed without an active geometry column. Currently, this automatically sets the active geometry column to 'geometry' but in the future that will no longer happen. Instead, either provide geometry to the GeoDataFrame constructor (GeoDataFrame(... geometry=GeoSeries()) or use `set_geometry('geometry')` to explicitly set the active geometry column.\n",
      "  data['geometry'] = geometry\n"
     ]
    },
    {
     "data": {
      "text/html": [
       "<div>\n",
       "<style scoped>\n",
       "    .dataframe tbody tr th:only-of-type {\n",
       "        vertical-align: middle;\n",
       "    }\n",
       "\n",
       "    .dataframe tbody tr th {\n",
       "        vertical-align: top;\n",
       "    }\n",
       "\n",
       "    .dataframe thead th {\n",
       "        text-align: right;\n",
       "    }\n",
       "</style>\n",
       "<table border=\"1\" class=\"dataframe\">\n",
       "  <thead>\n",
       "    <tr style=\"text-align: right;\">\n",
       "      <th></th>\n",
       "      <th>lon_idx</th>\n",
       "      <th>lat_idx</th>\n",
       "      <th>lon_hb</th>\n",
       "      <th>lat_hb</th>\n",
       "      <th>geometry</th>\n",
       "    </tr>\n",
       "  </thead>\n",
       "  <tbody>\n",
       "    <tr>\n",
       "      <th>0</th>\n",
       "      <td>0</td>\n",
       "      <td>0</td>\n",
       "      <td>103.269824</td>\n",
       "      <td>30.290660</td>\n",
       "      <td>POLYGON ((103.26721 30.28841, 103.27244 30.288...</td>\n",
       "    </tr>\n",
       "    <tr>\n",
       "      <th>1</th>\n",
       "      <td>0</td>\n",
       "      <td>1</td>\n",
       "      <td>103.269824</td>\n",
       "      <td>30.295157</td>\n",
       "      <td>POLYGON ((103.26721 30.29291, 103.27244 30.292...</td>\n",
       "    </tr>\n",
       "    <tr>\n",
       "      <th>2</th>\n",
       "      <td>0</td>\n",
       "      <td>2</td>\n",
       "      <td>103.269824</td>\n",
       "      <td>30.299653</td>\n",
       "      <td>POLYGON ((103.26721 30.29740, 103.27244 30.297...</td>\n",
       "    </tr>\n",
       "    <tr>\n",
       "      <th>3</th>\n",
       "      <td>0</td>\n",
       "      <td>3</td>\n",
       "      <td>103.269824</td>\n",
       "      <td>30.304150</td>\n",
       "      <td>POLYGON ((103.26721 30.30190, 103.27244 30.301...</td>\n",
       "    </tr>\n",
       "    <tr>\n",
       "      <th>4</th>\n",
       "      <td>0</td>\n",
       "      <td>4</td>\n",
       "      <td>103.269824</td>\n",
       "      <td>30.308646</td>\n",
       "      <td>POLYGON ((103.26721 30.30640, 103.27244 30.306...</td>\n",
       "    </tr>\n",
       "    <tr>\n",
       "      <th>...</th>\n",
       "      <td>...</td>\n",
       "      <td>...</td>\n",
       "      <td>...</td>\n",
       "      <td>...</td>\n",
       "      <td>...</td>\n",
       "    </tr>\n",
       "    <tr>\n",
       "      <th>42400</th>\n",
       "      <td>256</td>\n",
       "      <td>160</td>\n",
       "      <td>104.608045</td>\n",
       "      <td>31.010117</td>\n",
       "      <td>POLYGON ((104.60543 31.00787, 104.61066 31.007...</td>\n",
       "    </tr>\n",
       "    <tr>\n",
       "      <th>42401</th>\n",
       "      <td>256</td>\n",
       "      <td>161</td>\n",
       "      <td>104.608045</td>\n",
       "      <td>31.014613</td>\n",
       "      <td>POLYGON ((104.60543 31.01237, 104.61066 31.012...</td>\n",
       "    </tr>\n",
       "    <tr>\n",
       "      <th>42402</th>\n",
       "      <td>256</td>\n",
       "      <td>162</td>\n",
       "      <td>104.608045</td>\n",
       "      <td>31.019110</td>\n",
       "      <td>POLYGON ((104.60543 31.01686, 104.61066 31.016...</td>\n",
       "    </tr>\n",
       "    <tr>\n",
       "      <th>42403</th>\n",
       "      <td>256</td>\n",
       "      <td>163</td>\n",
       "      <td>104.608045</td>\n",
       "      <td>31.023607</td>\n",
       "      <td>POLYGON ((104.60543 31.02136, 104.61066 31.021...</td>\n",
       "    </tr>\n",
       "    <tr>\n",
       "      <th>42404</th>\n",
       "      <td>256</td>\n",
       "      <td>164</td>\n",
       "      <td>104.608045</td>\n",
       "      <td>31.028103</td>\n",
       "      <td>POLYGON ((104.60543 31.02585, 104.61066 31.025...</td>\n",
       "    </tr>\n",
       "  </tbody>\n",
       "</table>\n",
       "<p>42405 rows × 5 columns</p>\n",
       "</div>"
      ],
      "text/plain": [
       "       lon_idx  lat_idx      lon_hb     lat_hb  \\\n",
       "0            0        0  103.269824  30.290660   \n",
       "1            0        1  103.269824  30.295157   \n",
       "2            0        2  103.269824  30.299653   \n",
       "3            0        3  103.269824  30.304150   \n",
       "4            0        4  103.269824  30.308646   \n",
       "...        ...      ...         ...        ...   \n",
       "42400      256      160  104.608045  31.010117   \n",
       "42401      256      161  104.608045  31.014613   \n",
       "42402      256      162  104.608045  31.019110   \n",
       "42403      256      163  104.608045  31.023607   \n",
       "42404      256      164  104.608045  31.028103   \n",
       "\n",
       "                                                geometry  \n",
       "0      POLYGON ((103.26721 30.28841, 103.27244 30.288...  \n",
       "1      POLYGON ((103.26721 30.29291, 103.27244 30.292...  \n",
       "2      POLYGON ((103.26721 30.29740, 103.27244 30.297...  \n",
       "3      POLYGON ((103.26721 30.30190, 103.27244 30.301...  \n",
       "4      POLYGON ((103.26721 30.30640, 103.27244 30.306...  \n",
       "...                                                  ...  \n",
       "42400  POLYGON ((104.60543 31.00787, 104.61066 31.007...  \n",
       "42401  POLYGON ((104.60543 31.01237, 104.61066 31.012...  \n",
       "42402  POLYGON ((104.60543 31.01686, 104.61066 31.016...  \n",
       "42403  POLYGON ((104.60543 31.02136, 104.61066 31.021...  \n",
       "42404  POLYGON ((104.60543 31.02585, 104.61066 31.025...  \n",
       "\n",
       "[42405 rows x 5 columns]"
      ]
     },
     "execution_count": 29,
     "metadata": {},
     "output_type": "execute_result"
    }
   ],
   "source": [
    "# 定义空的GeoDataFrame，再往里添加栅格\n",
    "data = gpd.GeoDataFrame()\n",
    "\n",
    "# 定义空的list，后面循环一次就往里添加东西\n",
    "lon_idx, lat_idx = [], []\n",
    "geometry = []\n",
    "lon_hb, lat_hb = [], []\n",
    "\n",
    "# 计算行列要生成的栅格数量\n",
    "lon_sum = int((max_lon - min_lon) / delta_lon) + 1\n",
    "lat_sum = int((max_lat - min_lat) / delta_lat) + 1\n",
    "\n",
    "for i in range(lon_sum):\n",
    "    for j in range(lat_sum):\n",
    "        # 第i列，第j行的栅格中心\n",
    "        HBLON = i * delta_lon + min_lon\n",
    "        HBLAT = j * delta_lat + min_lat\n",
    "\n",
    "        # 用周围的栅格推算三个顶点位置\n",
    "        HBLON_1 = (i+1) * delta_lon + min_lon\n",
    "        HBLAT_1 = (j+1) * delta_lat + min_lat\n",
    "\n",
    "        # 生成栅格的 Polygon\n",
    "        grid_ij = Polygon([\n",
    "            (HBLON-delta_lon / 2, HBLAT - delta_lat / 2),\n",
    "            (HBLON_1-delta_lon / 2, HBLAT - delta_lat / 2),\n",
    "            (HBLON_1-delta_lon / 2, HBLAT_1 - delta_lat / 2),\n",
    "            (HBLON-delta_lon / 2, HBLAT_1 - delta_lat / 2),\n",
    "        ])\n",
    "\n",
    "        # 把生成的数据加入前面定义的list里面\n",
    "        lon_idx.append(i)\n",
    "        lat_idx.append(j)\n",
    "        lon_hb.append(HBLON)\n",
    "        lat_hb.append(HBLAT)\n",
    "        geometry.append(grid_ij)\n",
    "\n",
    "data['lon_idx'] = lon_idx\n",
    "data['lat_idx'] = lat_idx\n",
    "data['lon_hb'] = lon_hb\n",
    "data['lat_hb'] = lat_hb\n",
    "data['geometry'] = geometry\n",
    "\n",
    "data"
   ]
  },
  {
   "cell_type": "code",
   "execution_count": 31,
   "metadata": {},
   "outputs": [
    {
     "data": {
      "text/plain": [
       "<Axes: >"
      ]
     },
     "execution_count": 31,
     "metadata": {},
     "output_type": "execute_result"
    },
    {
     "data": {
      "image/png": "[encoded data removed]",
      "text/plain": [
       "<Figure size 640x480 with 1 Axes>"
      ]
     },
     "metadata": {},
     "output_type": "display_data"
    }
   ],
   "source": [
    "data.plot(edgecolor=(0, 0, 0, 1), linewidth=0.3)"
   ]
  },
  {
   "cell_type": "markdown",
   "metadata": {},
   "source": [
    "### GPS数据栅格对应与集计"
   ]
  },
  {
   "cell_type": "code",
   "execution_count": 32,
   "metadata": {},
   "outputs": [
    {
     "data": {
      "text/html": [
       "<div><strong>Dask DataFrame Structure:</strong></div>\n",
       "<div>\n",
       "<style scoped>\n",
       "    .dataframe tbody tr th:only-of-type {\n",
       "        vertical-align: middle;\n",
       "    }\n",
       "\n",
       "    .dataframe tbody tr th {\n",
       "        vertical-align: top;\n",
       "    }\n",
       "\n",
       "    .dataframe thead th {\n",
       "        text-align: right;\n",
       "    }\n",
       "</style>\n",
       "<table border=\"1\" class=\"dataframe\">\n",
       "  <thead>\n",
       "    <tr style=\"text-align: right;\">\n",
       "      <th></th>\n",
       "      <th>id</th>\n",
       "      <th>lat</th>\n",
       "      <th>lon</th>\n",
       "      <th>dt</th>\n",
       "    </tr>\n",
       "    <tr>\n",
       "      <th>npartitions=911</th>\n",
       "      <th></th>\n",
       "      <th></th>\n",
       "      <th></th>\n",
       "      <th></th>\n",
       "    </tr>\n",
       "  </thead>\n",
       "  <tbody>\n",
       "    <tr>\n",
       "      <th></th>\n",
       "      <td>int64</td>\n",
       "      <td>float64</td>\n",
       "      <td>float64</td>\n",
       "      <td>datetime64[ns]</td>\n",
       "    </tr>\n",
       "    <tr>\n",
       "      <th></th>\n",
       "      <td>...</td>\n",
       "      <td>...</td>\n",
       "      <td>...</td>\n",
       "      <td>...</td>\n",
       "    </tr>\n",
       "    <tr>\n",
       "      <th>...</th>\n",
       "      <td>...</td>\n",
       "      <td>...</td>\n",
       "      <td>...</td>\n",
       "      <td>...</td>\n",
       "    </tr>\n",
       "    <tr>\n",
       "      <th></th>\n",
       "      <td>...</td>\n",
       "      <td>...</td>\n",
       "      <td>...</td>\n",
       "      <td>...</td>\n",
       "    </tr>\n",
       "    <tr>\n",
       "      <th></th>\n",
       "      <td>...</td>\n",
       "      <td>...</td>\n",
       "      <td>...</td>\n",
       "      <td>...</td>\n",
       "    </tr>\n",
       "  </tbody>\n",
       "</table>\n",
       "</div>\n",
       "<div>Dask Name: assign, 5 graph layers</div>"
      ],
      "text/plain": [
       "Dask DataFrame Structure:\n",
       "                    id      lat      lon              dt\n",
       "npartitions=911                                         \n",
       "                 int64  float64  float64  datetime64[ns]\n",
       "                   ...      ...      ...             ...\n",
       "...                ...      ...      ...             ...\n",
       "                   ...      ...      ...             ...\n",
       "                   ...      ...      ...             ...\n",
       "Dask Name: assign, 5 graph layers"
      ]
     },
     "execution_count": 32,
     "metadata": {},
     "output_type": "execute_result"
    }
   ],
   "source": [
    "ddf"
   ]
  },
  {
   "cell_type": "code",
   "execution_count": 40,
   "metadata": {},
   "outputs": [
    {
     "name": "stderr",
     "output_type": "stream",
     "text": [
      "/Users/durui/miniconda3/lib/python3.11/site-packages/dask/dataframe/core.py:7021: UserWarning: Could not infer format, so each element will be parsed individually, falling back to `dateutil`. To ensure parsing is consistent and as-expected, please specify a format.\n",
      "  df = func(*args, **kwargs)\n"
     ]
    }
   ],
   "source": [
    "# 数据所对应栅格编号\n",
    "\n",
    "ddf['lon_idx'] = ((ddf['lon'] - (min_lon - delta_lon / 2)) /\n",
    "                  delta_lon).astype('int')\n",
    "ddf['lat_idx'] = ((ddf['lat'] - (min_lat - delta_lat / 2)) /\n",
    "                  delta_lat).astype('int')\n",
    "\n",
    "ddf.to_parquet('./output/ddf/')"
   ]
  },
  {
   "cell_type": "markdown",
   "metadata": {},
   "source": [
    "## getArrivePro.py, getQualific.py\n",
    "\n",
    "对一个特定的工人、任务：\n",
    "\n",
    "Arrivepro：有记录天数除以总天数计算，代表到达当前任务的概率；\n",
    "\n",
    "qPro：质量达标天数除以有记录天数，代表完成该任务的概率。"
   ]
  },
  {
   "cell_type": "code",
   "execution_count": 2,
   "metadata": {},
   "outputs": [
    {
     "data": {
      "text/html": [
       "<div>\n",
       "<style scoped>\n",
       "    .dataframe tbody tr th:only-of-type {\n",
       "        vertical-align: middle;\n",
       "    }\n",
       "\n",
       "    .dataframe tbody tr th {\n",
       "        vertical-align: top;\n",
       "    }\n",
       "\n",
       "    .dataframe thead th {\n",
       "        text-align: right;\n",
       "    }\n",
       "</style>\n",
       "<table border=\"1\" class=\"dataframe\">\n",
       "  <thead>\n",
       "    <tr style=\"text-align: right;\">\n",
       "      <th></th>\n",
       "      <th>id</th>\n",
       "      <th>dt</th>\n",
       "      <th>date</th>\n",
       "      <th>grid</th>\n",
       "    </tr>\n",
       "  </thead>\n",
       "  <tbody>\n",
       "    <tr>\n",
       "      <th>0</th>\n",
       "      <td>1</td>\n",
       "      <td>2014-08-03 21:18:46</td>\n",
       "      <td>2014-08-03</td>\n",
       "      <td>74-166</td>\n",
       "    </tr>\n",
       "    <tr>\n",
       "      <th>1</th>\n",
       "      <td>1</td>\n",
       "      <td>2014-08-03 21:18:15</td>\n",
       "      <td>2014-08-03</td>\n",
       "      <td>74-166</td>\n",
       "    </tr>\n",
       "    <tr>\n",
       "      <th>2</th>\n",
       "      <td>1</td>\n",
       "      <td>2014-08-03 21:20:17</td>\n",
       "      <td>2014-08-03</td>\n",
       "      <td>74-166</td>\n",
       "    </tr>\n",
       "    <tr>\n",
       "      <th>3</th>\n",
       "      <td>1</td>\n",
       "      <td>2014-08-03 21:19:16</td>\n",
       "      <td>2014-08-03</td>\n",
       "      <td>74-166</td>\n",
       "    </tr>\n",
       "    <tr>\n",
       "      <th>4</th>\n",
       "      <td>1</td>\n",
       "      <td>2014-08-03 21:17:44</td>\n",
       "      <td>2014-08-03</td>\n",
       "      <td>74-166</td>\n",
       "    </tr>\n",
       "  </tbody>\n",
       "</table>\n",
       "</div>"
      ],
      "text/plain": [
       "   id                  dt        date    grid\n",
       "0   1 2014-08-03 21:18:46  2014-08-03  74-166\n",
       "1   1 2014-08-03 21:18:15  2014-08-03  74-166\n",
       "2   1 2014-08-03 21:20:17  2014-08-03  74-166\n",
       "3   1 2014-08-03 21:19:16  2014-08-03  74-166\n",
       "4   1 2014-08-03 21:17:44  2014-08-03  74-166"
      ]
     },
     "execution_count": 2,
     "metadata": {},
     "output_type": "execute_result"
    }
   ],
   "source": [
    "ddf = dd.read_parquet('./output/ddf/')\n",
    "ddf['date'] = ddf['dt'].dt.date\n",
    "ddf['grid'] = ddf['lat_idx'].astype(str) + '-' + ddf['lon_idx'].astype(str)\n",
    "ddf = ddf[['id', 'dt', 'date', 'grid']]\n",
    "ddf.head()"
   ]
  },
  {
   "cell_type": "code",
   "execution_count": 4,
   "metadata": {},
   "outputs": [
    {
     "ename": "",
     "evalue": "",
     "output_type": "error",
     "traceback": [
      "\u001b[1;31mThe Kernel crashed while executing code in the the current cell or a previous cell. Please review the code in the cell(s) to identify a possible cause of the failure. Click <a href='https://aka.ms/vscodeJupyterKernelCrash'>here</a> for more info. View Jupyter <a href='command:jupyter.viewOutput'>log</a> for further details."
     ]
    }
   ],
   "source": [
    "ddf = ddf.sort_values(['id', 'dt', 'grid'])\n",
    "ddf['time_diff'] = ddf['dt'].diff()\n",
    "\n",
    "# 将与上一行不同的id和grid的时间差设置为NaT\n",
    "mask = (ddf['id'] != ddf['id'].shift()) | (ddf['grid'] != ddf['grid'].shift())\n",
    "ddf['time_diff'] = ddf['time_diff'].mask(mask)\n",
    "\n",
    "# 累积小于30秒的时间差\n",
    "ddf['stay_time'] = ddf['time_diff'].apply(\n",
    "    lambda x: x if x < pd.Timedelta(seconds=30) else pd.Timedelta(seconds=0))\n",
    "\n",
    "# 按照 id, date, grid 分组并计算停留时间\n",
    "stay_duration = ddf.groupby(['id', 'date', 'grid'])['stay_time'].sum().reset_index()\n",
    "\n",
    "# 计算结果\n",
    "stay_duration.to_parquet('/Volumes/WD_BLACK/dataset/output/car_info/')"
   ]
  },
  {
   "cell_type": "code",
   "execution_count": null,
   "metadata": {},
   "outputs": [],
   "source": []
  }
 ],
 "metadata": {
  "kernelspec": {
   "display_name": "base",
   "language": "python",
   "name": "python3"
  },
  "language_info": {
   "codemirror_mode": {
    "name": "ipython",
    "version": 3
   },
   "file_extension": ".py",
   "mimetype": "text/x-python",
   "name": "python",
   "nbconvert_exporter": "python",
   "pygments_lexer": "ipython3",
   "version": "3.11.4"
  }
 },
 "nbformat": 4,
 "nbformat_minor": 2
}
